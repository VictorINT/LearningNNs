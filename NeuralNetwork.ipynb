{
 "cells": [
  {
   "cell_type": "code",
   "execution_count": 2,
   "id": "535daf44",
   "metadata": {},
   "outputs": [],
   "source": [
    "import numpy as np\n",
    "from sklearn.datasets import fetch_openml"
   ]
  },
  {
   "cell_type": "code",
   "execution_count": 3,
   "id": "f30388ea",
   "metadata": {},
   "outputs": [],
   "source": [
    "input_size = 28*28\n",
    "hidden_size = 128\n",
    "output_size = 10\n",
    "learning_rate = 0.1\n",
    "\n",
    "X, y = fetch_openml('mnist_784', version=1, return_X_y=True)\n",
    "X = np.array(X) / 255.0\n",
    "y = np.array(y).astype(int)\n",
    "\n",
    "layer_count = 2\n",
    "\n",
    "W = {\n",
    "    1: {\n",
    "        \"W\": np.random.randn(hidden_size, input_size) * 0.01,\n",
    "        \"b\": np.zeros((hidden_size, 1))\n",
    "    },\n",
    "    2: {\n",
    "        \"W\": np.random.randn(output_size, hidden_size) * 0.01,\n",
    "        \"b\": np.zeros((output_size, 1))\n",
    "    }\n",
    "}"
   ]
  },
  {
   "cell_type": "code",
   "execution_count": 4,
   "id": "43b81cfd",
   "metadata": {},
   "outputs": [],
   "source": [
    "def ReLU(x):\n",
    "    return np.maximum(0, x)\n",
    "\n",
    "def dReLU(x):\n",
    "    return x > 0\n",
    "\n",
    "def softmax(z):\n",
    "    exp_z = np.exp(z - np.max(z))\n",
    "    return exp_z / np.sum(exp_z)\n",
    "\n",
    "def feetForward(PastLayer, LayerCount):\n",
    "    if LayerCount > layer_count:\n",
    "        return PastLayer\n",
    "    else:\n",
    "        Z = W[LayerCount][\"W\"] @ PastLayer + W[LayerCount][\"b\"]\n",
    "        if LayerCount == layer_count:\n",
    "            A = softmax(Z)\n",
    "        else:\n",
    "            A = ReLU(Z)\n",
    "        return feetForward(A, LayerCount + 1)\n",
    "\n",
    "def calculateError(ExpectedOutput, ActualOutput):\n",
    "    diff = ExpectedOutput - ActualOutput\n",
    "    return np.sum(diff ** 2)"
   ]
  },
  {
   "cell_type": "code",
   "execution_count": 5,
   "id": "f6b193fc",
   "metadata": {},
   "outputs": [],
   "source": [
    "def backPropagation(error):\n",
    "    return"
   ]
  },
  {
   "cell_type": "code",
   "execution_count": 6,
   "id": "61ab3113",
   "metadata": {},
   "outputs": [
    {
     "name": "stdout",
     "output_type": "stream",
     "text": [
      "[[0.10005754]\n",
      " [0.09846025]\n",
      " [0.10116306]\n",
      " [0.0998077 ]\n",
      " [0.09948785]\n",
      " [0.09922176]\n",
      " [0.09997736]\n",
      " [0.10104625]\n",
      " [0.10110328]\n",
      " [0.09967495]]\n",
      "Eroare: 0.9015635369809186\n"
     ]
    }
   ],
   "source": [
    "x0 = X[0].reshape(-1, 1)\n",
    "y0 = np.zeros((10, 1))\n",
    "y0[y[0]] = 1\n",
    "\n",
    "outcome = feetForward(x0, 1)\n",
    "err = calculateError(y0, outcome)\n",
    "\n",
    "print(outcome)\n",
    "print(\"Eroare:\", err)"
   ]
  }
 ],
 "metadata": {
  "kernelspec": {
   "display_name": "Python 3",
   "language": "python",
   "name": "python3"
  },
  "language_info": {
   "codemirror_mode": {
    "name": "ipython",
    "version": 3
   },
   "file_extension": ".py",
   "mimetype": "text/x-python",
   "name": "python",
   "nbconvert_exporter": "python",
   "pygments_lexer": "ipython3",
   "version": "3.13.5"
  }
 },
 "nbformat": 4,
 "nbformat_minor": 5
}
