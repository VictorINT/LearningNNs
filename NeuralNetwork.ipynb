{
 "cells": [
  {
   "cell_type": "code",
   "execution_count": 6,
   "id": "535daf44",
   "metadata": {},
   "outputs": [],
   "source": [
    "import numpy as np\n",
    "from sklearn.datasets import fetch_openml"
   ]
  },
  {
   "cell_type": "code",
   "execution_count": 7,
   "id": "f30388ea",
   "metadata": {},
   "outputs": [],
   "source": [
    "input_size = 28*28\n",
    "hidden_size = 128\n",
    "output_size = 10\n",
    "learning_rate = 0.1\n",
    "\n",
    "X, y = fetch_openml('mnist_784', version=1, return_X_y=True)\n",
    "X = np.array(X) / 255.0\n",
    "y = np.array(y).astype(int)\n",
    "\n",
    "layer_count = 2\n",
    "\n",
    "W = {\n",
    "    1: {\n",
    "        \"W\": np.random.randn(hidden_size, input_size) * 0.01,\n",
    "        \"b\": np.zeros((hidden_size, 1))\n",
    "    },\n",
    "    2: {\n",
    "        \"W\": np.random.randn(output_size, hidden_size) * 0.01,\n",
    "        \"b\": np.zeros((output_size, 1))\n",
    "    }\n",
    "}"
   ]
  },
  {
   "cell_type": "code",
   "execution_count": 8,
   "id": "43b81cfd",
   "metadata": {},
   "outputs": [],
   "source": [
    "def ReLU(x):\n",
    "    return np.maximum(0, x)\n",
    "\n",
    "def dReLU(x):\n",
    "    return x > 0\n",
    "\n",
    "def softmax(z):\n",
    "    exp_z = np.exp(z - np.max(z))\n",
    "    return exp_z / np.sum(exp_z)\n",
    "\n",
    "def feedForward(PastLayer, LayerCount, cache=None):\n",
    "    if cache is None:\n",
    "        cache = {}\n",
    "    if LayerCount > layer_count:\n",
    "        return PastLayer, cache\n",
    "    else:\n",
    "        Z = W[LayerCount][\"W\"] @ PastLayer + W[LayerCount][\"b\"]\n",
    "        if LayerCount == layer_count:\n",
    "            A = softmax(Z)\n",
    "        else:\n",
    "            A = ReLU(Z)\n",
    "        cache[LayerCount] = {\"Z\": Z, \"A\": A}\n",
    "        return feedForward(A, LayerCount + 1, cache)\n",
    "\n",
    "\n",
    "def calculateError(ExpectedOutput, ActualOutput):\n",
    "    diff = ExpectedOutput - ActualOutput\n",
    "    return np.sum(diff ** 2)"
   ]
  },
  {
   "cell_type": "code",
   "execution_count": 9,
   "id": "f6b193fc",
   "metadata": {},
   "outputs": [],
   "source": [
    "def backPropagation(x, y_true, cache, learning_rate):\n",
    "    # x: input vector (shape: input_size x 1)\n",
    "    # y_true: one-hot vector (10 x 1)\n",
    "    # cache: dictionar cu Z si A pe fiecare layer\n",
    "    # learning_rate: baza de invatare\n",
    "\n",
    "    grads = {}\n",
    "    m = 1  # batch size (1 pentru exemplul acesta)\n",
    "\n",
    "    # 1) Calculam eroarea la output (layer 2)\n",
    "    A2 = cache[2][\"A\"]  # output-ul softmax (10x1)\n",
    "    dZ2 = A2 - y_true   # derivata functiei cost cross-entropy + softmax: simplifica la A - y_true\n",
    "\n",
    "    # Gradientii pentru layer 2\n",
    "    A1 = cache[1][\"A\"]  # activarea layerului 1 (128x1)\n",
    "    dW2 = (dZ2 @ A1.T) / m  # (10x1)@(1x128) = 10x128\n",
    "    db2 = dZ2 / m           # 10x1\n",
    "\n",
    "    # 2) Calculam eroarea pentru layer 1\n",
    "    W2 = W[2][\"W\"]         # 10x128\n",
    "    dA1 = W2.T @ dZ2       # (128x10)@(10x1) = 128x1\n",
    "    Z1 = cache[1][\"Z\"]\n",
    "    dZ1 = dA1 * dReLU(Z1)  # element-wise multiplicare cu derivata ReLU (128x1)\n",
    "\n",
    "    # Gradientii pentru layer 1\n",
    "    x = x.reshape(-1,1)    # 784x1\n",
    "    dW1 = (dZ1 @ x.T) / m  # (128x1)@(1x784) = 128x784\n",
    "    db1 = dZ1 / m          # 128x1\n",
    "\n",
    "    # 3) Adaptam learning rate proportional cu inversa normei gradientului (simplu)\n",
    "    # Calculam norma totala a gradientilor\n",
    "    grad_norm = np.linalg.norm(dW1) + np.linalg.norm(dW2)\n",
    "    adaptive_lr = learning_rate / (grad_norm + 1e-8)  # +eps pentru stabilitate\n",
    "\n",
    "    # 4) Actualizam weight-urile si bias-urile\n",
    "    W[1][\"W\"] -= adaptive_lr * dW1\n",
    "    W[1][\"b\"] -= adaptive_lr * db1\n",
    "    W[2][\"W\"] -= adaptive_lr * dW2\n",
    "    W[2][\"b\"] -= adaptive_lr * db2\n"
   ]
  },
  {
   "cell_type": "code",
   "execution_count": null,
   "id": "61ab3113",
   "metadata": {},
   "outputs": [],
   "source": [
    "for i in range(65000):\n",
    "    x = X[i].reshape(-1, 1)\n",
    "    y_true = np.zeros((10, 1))\n",
    "    y_true[y[i]] = 1\n",
    "\n",
    "    output, cache = feedForward(x, 1)\n",
    "    err = calculateError(y_true, output)\n",
    "    backPropagation(x, y_true, cache, learning_rate)\n"
   ]
  },
  {
   "cell_type": "code",
   "execution_count": null,
   "id": "86a32552",
   "metadata": {},
   "outputs": [
    {
     "name": "stdout",
     "output_type": "stream",
     "text": [
      "Accuracy: 95.58%\n"
     ]
    }
   ],
   "source": [
    "good_outcome = 0\n",
    "bad_outcome = 0\n",
    "\n",
    "for i in range(65000, len(X)):\n",
    "    test = X[i].reshape(-1, 1)\n",
    "    yt = np.zeros((10, 1))\n",
    "    yt[y[i]] = 1\n",
    "\n",
    "    out, _ = feedForward(test, 1)\n",
    "    predicted_label = np.argmax(out)\n",
    "    actual_label = y[i]\n",
    "\n",
    "    if predicted_label == actual_label:\n",
    "        good_outcome += 1\n",
    "    else:\n",
    "        bad_outcome += 1\n",
    "\n",
    "accuracy = good_outcome / (good_outcome + bad_outcome) * 100\n",
    "print(f\"Accuracy: {accuracy:.2f}%\")\n"
   ]
  }
 ],
 "metadata": {
  "kernelspec": {
   "display_name": "Python 3",
   "language": "python",
   "name": "python3"
  },
  "language_info": {
   "codemirror_mode": {
    "name": "ipython",
    "version": 3
   },
   "file_extension": ".py",
   "mimetype": "text/x-python",
   "name": "python",
   "nbconvert_exporter": "python",
   "pygments_lexer": "ipython3",
   "version": "3.13.5"
  }
 },
 "nbformat": 4,
 "nbformat_minor": 5
}
